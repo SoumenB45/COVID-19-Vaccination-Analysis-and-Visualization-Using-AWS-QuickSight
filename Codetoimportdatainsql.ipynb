{
 "cells": [
  {
   "cell_type": "code",
   "execution_count": null,
   "id": "f329ae16-1dcf-4930-b3ae-bbc565a6265a",
   "metadata": {},
   "outputs": [],
   "source": [
    "import os\n",
    "import time\n",
    "import pandas as pd\n",
    "from sqlalchemy import create_engine\n",
    "from urllib.parse import quote_plus\n",
    "\n",
    "# MySQL connection details\n",
    "DB_USER = 'root'\n",
    "DB_PASSWORD_RAW = 'Soumen@123'\n",
    "DB_HOST = 'localhost'\n",
    "DB_PORT = '3306'\n",
    "DB_NAME = 'project'\n",
    "\n",
    "# URL encode password\n",
    "DB_PASSWORD = quote_plus(DB_PASSWORD_RAW)\n",
    "\n",
    "# Create SQLAlchemy engine\n",
    "engine = create_engine(f\"mysql+pymysql://{DB_USER}:{DB_PASSWORD}@{DB_HOST}:{DB_PORT}/{DB_NAME}\")\n",
    "\n",
    "# Path to CSV folder\n",
    "csv_folder = r'C:\\Users\\soumen\\Downloads\\f'\n",
    "\n",
    "start_time = time.time()\n",
    "total_rows = 0\n",
    "\n",
    "print(f\"Starting import from: {csv_folder}\\n\")\n",
    "\n",
    "for file in os.listdir(csv_folder):\n",
    "    if file.endswith(\".csv\"):\n",
    "        file_start = time.time()\n",
    "        \n",
    "        table_name = file.replace(\".csv\", \"\")\n",
    "        file_path = os.path.join(csv_folder, file)\n",
    "\n",
    "        print(f\"Importing {file} into table {table_name}\")\n",
    "\n",
    "        try:\n",
    "            df = pd.read_csv(file_path)\n",
    "            df.to_sql(table_name, con=engine, if_exists='replace', index=False)\n",
    "            duration = round(time.time() - file_start, 2)\n",
    "            print(f\"Uploaded {len(df)} rows to {table_name} in {duration} seconds\\n\")\n",
    "            total_rows += len(df)\n",
    "        except Exception as e:\n",
    "            print(f\"Failed to import {file}: {e}\\n\")\n",
    "\n",
    "total_time = round(time.time() - start_time, 2)\n",
    "print(f\"Finished importing. Total rows: {total_rows} | Total time: {total_time} seconds\")"
   ]
  },
  {
   "cell_type": "code",
   "execution_count": null,
   "id": "ebcf60be-8deb-43c0-90ea-a5e591431bd3",
   "metadata": {},
   "outputs": [],
   "source": []
  }
 ],
 "metadata": {
  "kernelspec": {
   "display_name": "Python 3 (ipykernel)",
   "language": "python",
   "name": "python3"
  },
  "language_info": {
   "codemirror_mode": {
    "name": "ipython",
    "version": 3
   },
   "file_extension": ".py",
   "mimetype": "text/x-python",
   "name": "python",
   "nbconvert_exporter": "python",
   "pygments_lexer": "ipython3",
   "version": "3.12.7"
  }
 },
 "nbformat": 4,
 "nbformat_minor": 5
}
